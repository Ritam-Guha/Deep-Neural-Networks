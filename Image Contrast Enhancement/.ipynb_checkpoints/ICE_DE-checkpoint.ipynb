{
 "cells": [
  {
   "cell_type": "code",
   "execution_count": 2,
   "metadata": {},
   "outputs": [],
   "source": [
    "import numpy as np\n",
    "from PIL import Image\n",
    "import time\n",
    "from matplotlib import pyplot as plt\n",
    "from matplotlib.gridspec import GridSpec\n",
    "from scipy.optimize import differential_evolution as DE"
   ]
  },
  {
   "cell_type": "code",
   "execution_count": 83,
   "metadata": {},
   "outputs": [],
   "source": [
    "def show_hist(input_img):\n",
    "\n",
    "    input_img_arr = np.array(input_img)\n",
    "    \n",
    "    r_img = input_img_arr[:,:,0]\n",
    "    g_img = input_img_arr[:,:,1]\n",
    "    b_img = input_img_arr[:,:,2]\n",
    "\n",
    "    bins = np.arange(0,257,1)\n",
    "    \n",
    "    r_img_hist = np.histogram(r_img,bins=bins)\n",
    "    g_img_hist = np.histogram(g_img,bins=bins)\n",
    "    b_img_hist = np.histogram(b_img,bins=bins)\n",
    "\n",
    "\n",
    "    fig, axes = plt.subplots(1,3,figsize=(15,5))\n",
    "    xrange = np.arange(0,256,1) \n",
    "        \n",
    "    axes[0].bar(xrange,r_img_hist[0])\n",
    "    axes[1].bar(xrange,g_img_hist[0])\n",
    "    axes[2].bar(xrange,b_img_hist[0])\n",
    "\n",
    "    plt.show()"
   ]
  },
  {
   "cell_type": "code",
   "execution_count": 375,
   "metadata": {},
   "outputs": [
    {
     "name": "stdout",
     "output_type": "stream",
     "text": [
      "<class 'numpy.uint8'>\n",
      "8.209799852920696e-05\n"
     ]
    }
   ],
   "source": [
    "img = np.array(Image.open('low_con1.jpeg'))\n",
    "print(type(img[0,0,0]))\n",
    "tic = time.perf_counter()\n",
    "# show_hist(img)\n",
    "toc = time.perf_counter()\n",
    "print(toc - tic)"
   ]
  },
  {
   "cell_type": "code",
   "execution_count": 377,
   "metadata": {},
   "outputs": [],
   "source": [
    "def stretch_helper(img, l=0):\n",
    "    \n",
    "    limit_l = int(255 * l)\n",
    "    limit_h = 255 - limit_l\n",
    "    \n",
    "    min_val = img.min()\n",
    "    max_val = img.max()\n",
    "    out = np.array(((img - min_val)/(max_val - min_val))*(limit_h-limit_l) + limit_l)\n",
    "    out = out.astype(int)      \n",
    "    return out\n",
    "\n",
    "def image_stretch(input_img, r_l, g_l, h_l):\n",
    "        \n",
    "    input_img = np.array(input_img).astype('int')\n",
    "    \n",
    "#     show_hist(input_img)\n",
    "    \n",
    "    r_img = input_img[:,:,0]\n",
    "    g_img = input_img[:,:,1]\n",
    "    b_img = input_img[:,:,2]\n",
    "\n",
    "    \n",
    "    r_stretched = stretch_helper(r_img,r_l).copy()\n",
    "    g_stretched = stretch_helper(g_img,g_l).copy()\n",
    "    b_stretched = stretch_helper(b_img,h_l).copy()\n",
    "    \n",
    "    \n",
    "    output_img = np.zeros(input_img.shape).astype('uint8')\n",
    "    output_img[:,:,0] = r_stretched\n",
    "    output_img[:,:,1] = g_stretched\n",
    "    output_img[:,:,2] = b_stretched      \n",
    "        \n",
    "#     show_hist(output_img)    \n",
    "    \n",
    "#     figs, axes = plt.subplots(2,figsize=(20,15))\n",
    "    \n",
    "#     axes[0].imshow(input_img)\n",
    "#     axes[1].imshow(output_img.astype('uint8'))    \n",
    "    \n",
    "    return output_img\n",
    "    "
   ]
  },
  {
   "cell_type": "code",
   "execution_count": 390,
   "metadata": {},
   "outputs": [],
   "source": [
    "def cost_function(x,img):\n",
    "    \n",
    "    (r_l,g_l,b_l) = x\n",
    "    \n",
    "    new_img_arr = np.array(image_stretch(img,r_l,g_l,b_l))    \n",
    "    new_img = Image.fromarray(new_img_arr)\n",
    "    img_entropy = new_img.entropy()\n",
    "    \n",
    "    r_img_arr = new_img_arr[:,:,0]\n",
    "    g_img_arr = new_img_arr[:,:,1]\n",
    "    b_img_arr = new_img_arr[:,:,2]\n",
    "    \n",
    "    (rdx,rdy) = np.array(np.gradient(r_img_arr))\n",
    "    (gdx,gdy) = np.array(np.gradient(g_img_arr))\n",
    "    (bdx,bdy) = np.array(np.gradient(b_img_arr))\n",
    "    \n",
    "    shape_img = r_img_arr.shape\n",
    "    \n",
    "    r_img_grad = np.sum(rdx ** 2 + rdy ** 2)/(shape_img[0] * shape_img[1])\n",
    "    g_img_grad = np.sum(gdx ** 2 + gdy ** 2)/(shape_img[0] * shape_img[1])\n",
    "    b_img_grad = np.sum(bdx ** 2 + bdy ** 2)/(shape_img[0] * shape_img[1])\n",
    "    \n",
    "    grad_avg = (r_img_grad + g_img_grad + b_img_grad)/3\n",
    "    cost = img_entropy + grad_avg\n",
    "    return cost\n",
    "    \n",
    "    "
   ]
  },
  {
   "cell_type": "code",
   "execution_count": 393,
   "metadata": {},
   "outputs": [
    {
     "ename": "TypeError",
     "evalue": "differential_evolution() got an unexpected keyword argument 'img'",
     "output_type": "error",
     "traceback": [
      "\u001b[0;31m---------------------------------------------------------------------------\u001b[0m",
      "\u001b[0;31mTypeError\u001b[0m                                 Traceback (most recent call last)",
      "\u001b[0;32m<ipython-input-393-5f47f3e8533f>\u001b[0m in \u001b[0;36m<module>\u001b[0;34m\u001b[0m\n\u001b[1;32m      1\u001b[0m \u001b[0mimg\u001b[0m \u001b[0;34m=\u001b[0m \u001b[0mImage\u001b[0m\u001b[0;34m.\u001b[0m\u001b[0mopen\u001b[0m\u001b[0;34m(\u001b[0m\u001b[0;34m'low_con1.jpeg'\u001b[0m\u001b[0;34m)\u001b[0m\u001b[0;34m\u001b[0m\u001b[0;34m\u001b[0m\u001b[0m\n\u001b[1;32m      2\u001b[0m \u001b[0mbound\u001b[0m \u001b[0;34m=\u001b[0m \u001b[0;34m[\u001b[0m\u001b[0;34m(\u001b[0m\u001b[0;36m0\u001b[0m\u001b[0;34m,\u001b[0m\u001b[0;36m0.5\u001b[0m\u001b[0;34m)\u001b[0m\u001b[0;34m,\u001b[0m \u001b[0;34m(\u001b[0m\u001b[0;36m0\u001b[0m\u001b[0;34m,\u001b[0m\u001b[0;36m0.5\u001b[0m\u001b[0;34m)\u001b[0m\u001b[0;34m,\u001b[0m \u001b[0;34m(\u001b[0m\u001b[0;36m0\u001b[0m\u001b[0;34m,\u001b[0m\u001b[0;36m0.5\u001b[0m\u001b[0;34m)\u001b[0m\u001b[0;34m]\u001b[0m\u001b[0;34m\u001b[0m\u001b[0;34m\u001b[0m\u001b[0m\n\u001b[0;32m----> 3\u001b[0;31m \u001b[0mresults\u001b[0m \u001b[0;34m=\u001b[0m \u001b[0mDE\u001b[0m\u001b[0;34m(\u001b[0m\u001b[0mcost_function\u001b[0m\u001b[0;34m,\u001b[0m\u001b[0mimg\u001b[0m\u001b[0;34m=\u001b[0m\u001b[0mimg\u001b[0m\u001b[0;34m,\u001b[0m \u001b[0mbounds\u001b[0m \u001b[0;34m=\u001b[0m \u001b[0mbound\u001b[0m\u001b[0;34m)\u001b[0m\u001b[0;34m\u001b[0m\u001b[0;34m\u001b[0m\u001b[0m\n\u001b[0m\u001b[1;32m      4\u001b[0m \u001b[0mprint\u001b[0m\u001b[0;34m(\u001b[0m\u001b[0mresult\u001b[0m\u001b[0;34m.\u001b[0m\u001b[0mfun\u001b[0m\u001b[0;34m)\u001b[0m\u001b[0;34m\u001b[0m\u001b[0;34m\u001b[0m\u001b[0m\n",
      "\u001b[0;31mTypeError\u001b[0m: differential_evolution() got an unexpected keyword argument 'img'"
     ]
    }
   ],
   "source": [
    "img = Image.open('low_con1.jpeg')\n",
    "bound = [(0,0.5), (0,0.5), (0,0.5)]\n",
    "results = DE(cost_function,args(mg, bounds = bound)\n",
    "print(result.fun)"
   ]
  },
  {
   "cell_type": "code",
   "execution_count": null,
   "metadata": {},
   "outputs": [],
   "source": []
  },
  {
   "cell_type": "code",
   "execution_count": null,
   "metadata": {},
   "outputs": [],
   "source": []
  }
 ],
 "metadata": {
  "kernelspec": {
   "display_name": "Python 3",
   "language": "python",
   "name": "python3"
  },
  "language_info": {
   "codemirror_mode": {
    "name": "ipython",
    "version": 3
   },
   "file_extension": ".py",
   "mimetype": "text/x-python",
   "name": "python",
   "nbconvert_exporter": "python",
   "pygments_lexer": "ipython3",
   "version": "3.8.2"
  }
 },
 "nbformat": 4,
 "nbformat_minor": 4
}
